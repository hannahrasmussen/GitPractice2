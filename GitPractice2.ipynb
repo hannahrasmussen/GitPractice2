{
 "cells": [
  {
   "cell_type": "code",
   "execution_count": 1,
   "id": "917bc2ef",
   "metadata": {},
   "outputs": [],
   "source": [
    "import numpy as np"
   ]
  },
  {
   "cell_type": "code",
   "execution_count": 2,
   "id": "4b17c239",
   "metadata": {},
   "outputs": [],
   "source": [
    "#Circumference and area of a circle \n",
    "\n",
    "def A(r):\n",
    "    return np.pi*r**2\n",
    "\n",
    "def d(r):\n",
    "    return 2*r"
   ]
  },
  {
   "cell_type": "code",
   "execution_count": 3,
   "id": "73743516",
   "metadata": {},
   "outputs": [
    {
     "name": "stdout",
     "output_type": "stream",
     "text": [
      "The area of a circle with r=1 is 3.141592653589793\n",
      "The diameter of a circle with r=1 is 2\n"
     ]
    }
   ],
   "source": [
    "#tests\n",
    "\n",
    "#print(\"The circumference of a circle with r=1 is \"+str(C(1)))\n",
    "\n",
    "print(\"The area of a circle with r=1 is \"+str(A(1)))\n",
    "\n",
    "print(\"The diameter of a circle with r=1 is \"+str(d(1)))"
   ]
  },
  {
   "cell_type": "code",
   "execution_count": 4,
   "id": "9468f8a3",
   "metadata": {},
   "outputs": [],
   "source": [
    "#surface area and volume of a cube\n",
    "\n",
    "def SA_cone(r,h):\n",
    "    return np.pi*r*(np.sqrt(r**2+h**2)+r)\n",
    "\n",
    "def vol_cone(r,h):\n",
    "    return (1/3)*h*np.pi*r**2"
   ]
  },
  {
   "cell_type": "code",
   "execution_count": 5,
   "id": "ebfc9f2b",
   "metadata": {},
   "outputs": [
    {
     "name": "stdout",
     "output_type": "stream",
     "text": [
      "The surface area of a cone with r=1 and h=1 is 7.584475591748159\n",
      "The volume of a cube with r=1 and h=1 is 1.0471975511965976\n"
     ]
    }
   ],
   "source": [
    "#tests for sphere functions\n",
    "\n",
    "print(\"The surface area of a cone with r=1 and h=1 is \"+str(SA_cone(1,1)))\n",
    "\n",
    "print(\"The volume of a cube with r=1 and h=1 is \"+str(vol_cone(1,1)))"
   ]
  }
 ],
 "metadata": {
  "kernelspec": {
   "display_name": "Python 3",
   "language": "python",
   "name": "python3"
  },
  "language_info": {
   "codemirror_mode": {
    "name": "ipython",
    "version": 3
   },
   "file_extension": ".py",
   "mimetype": "text/x-python",
   "name": "python",
   "nbconvert_exporter": "python",
   "pygments_lexer": "ipython3",
   "version": "3.7.10"
  }
 },
 "nbformat": 4,
 "nbformat_minor": 5
}
