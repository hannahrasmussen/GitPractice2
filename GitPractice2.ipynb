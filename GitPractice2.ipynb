{
 "cells": [
  {
   "cell_type": "code",
   "execution_count": 1,
   "id": "96ca472c",
   "metadata": {},
   "outputs": [],
   "source": [
    "import numpy as np"
   ]
  },
  {
   "cell_type": "code",
   "execution_count": 2,
   "id": "3401a173",
   "metadata": {},
   "outputs": [],
   "source": [
    "#Circumference and area of a circle \n",
    "\n",
    "def C(r):\n",
    "    return 2*np.pi*r\n",
    "\n",
    "def A(r):\n",
    "    return np.pi*r**2\n",
    "\n",
    "def d(r):\n",
    "    return 2*r"
   ]
  },
  {
   "cell_type": "code",
   "execution_count": 3,
   "id": "75e8895b",
   "metadata": {},
   "outputs": [
    {
     "name": "stdout",
     "output_type": "stream",
     "text": [
      "The circumference of a circle with r=1 is 6.283185307179586\n",
      "The area of a circle with r=1 is 3.141592653589793\n",
      "The diameter of a circle with r=1 is 2\n"
     ]
    }
   ],
   "source": [
    "#tests\n",
    "\n",
    "print(\"The circumference of a circle with r=1 is \"+str(C(1)))\n",
    "\n",
    "print(\"The area of a circle with r=1 is \"+str(A(1)))\n",
    "\n",
    "print(\"The diameter of a circle with r=1 is \"+str(d(1)))"
   ]
  }
 ],
 "metadata": {
  "kernelspec": {
   "display_name": "Python 3",
   "language": "python",
   "name": "python3"
  },
  "language_info": {
   "codemirror_mode": {
    "name": "ipython",
    "version": 3
   },
   "file_extension": ".py",
   "mimetype": "text/x-python",
   "name": "python",
   "nbconvert_exporter": "python",
   "pygments_lexer": "ipython3",
   "version": "3.7.10"
  }
 },
 "nbformat": 4,
 "nbformat_minor": 5
}
