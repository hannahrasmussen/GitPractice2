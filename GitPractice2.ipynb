{
 "cells": [
  {
   "cell_type": "code",
   "execution_count": 1,
   "id": "fc2f84d1",
   "metadata": {},
   "outputs": [],
   "source": [
    "import numpy as np"
   ]
  },
  {
   "cell_type": "code",
   "execution_count": 2,
   "id": "ec2f6588",
   "metadata": {},
   "outputs": [],
   "source": [
    "#Circumference and area of a circle \n",
    "\n",
    "def A(r):\n",
    "    return np.pi*r**2\n",
    "\n",
    "def d(r):\n",
    "    return 2*r"
   ]
  },
  {
   "cell_type": "code",
   "execution_count": 3,
   "id": "9c948fd0",
   "metadata": {},
   "outputs": [
    {
     "name": "stdout",
     "output_type": "stream",
     "text": [
      "The area of a circle with r=1 is 3.141592653589793\n",
      "The diameter of a circle with r=1 is 2\n"
     ]
    }
   ],
   "source": [
    "#tests\n",
    "\n",
    "#print(\"The circumference of a circle with r=1 is \"+str(C(1)))\n",
    "\n",
    "print(\"The area of a circle with r=1 is \"+str(A(1)))\n",
    "\n",
    "print(\"The diameter of a circle with r=1 is \"+str(d(1)))"
   ]
  },
  {
   "cell_type": "code",
   "execution_count": 4,
   "id": "735bb1d9",
   "metadata": {},
   "outputs": [],
   "source": [
    "#surface area and volume of a sphere\n",
    "\n",
    "def SA_sphere(r):\n",
    "    return 4*np.pi*r**2\n",
    "\n",
    "def vol_sphere(r):\n",
    "    return (4/3)*np.pi*r**3"
   ]
  },
  {
   "cell_type": "code",
   "execution_count": 5,
   "id": "69532587",
   "metadata": {},
   "outputs": [
    {
     "name": "stdout",
     "output_type": "stream",
     "text": [
      "The surface area of a sphere with r=1 is 12.566370614359172\n",
      "The volume of a sphere with r=1 is 4.1887902047863905\n"
     ]
    }
   ],
   "source": [
    "#tests for sphere functions\n",
    "\n",
    "print(\"The surface area of a sphere with r=1 is \"+str(SA_sphere(1)))\n",
    "\n",
    "print(\"The volume of a sphere with r=1 is \"+str(vol_sphere(1)))"
   ]
  }
 ],
 "metadata": {
  "kernelspec": {
   "display_name": "Python 3",
   "language": "python",
   "name": "python3"
  },
  "language_info": {
   "codemirror_mode": {
    "name": "ipython",
    "version": 3
   },
   "file_extension": ".py",
   "mimetype": "text/x-python",
   "name": "python",
   "nbconvert_exporter": "python",
   "pygments_lexer": "ipython3",
   "version": "3.7.10"
  }
 },
 "nbformat": 4,
 "nbformat_minor": 5
}
